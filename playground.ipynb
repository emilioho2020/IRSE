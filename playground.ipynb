{
  "nbformat": 4,
  "nbformat_minor": 0,
  "metadata": {
    "kernelspec": {
      "name": "python3",
      "display_name": "Python 3"
    },
    "language_info": {
      "codemirror_mode": {
        "name": "ipython",
        "version": 3
      },
      "file_extension": ".py",
      "mimetype": "text/x-python",
      "name": "python",
      "nbconvert_exporter": "python",
      "pygments_lexer": "ipython3",
      "version": "3.7.3"
    },
    "colab": {
      "name": "playground.ipynb",
      "provenance": [],
      "collapsed_sections": []
    },
    "accelerator": "GPU"
  },
  "cells": [
    {
      "cell_type": "code",
      "metadata": {
        "id": "rKViIrMxZxfJ",
        "colab_type": "code",
        "outputId": "cfc4fb39-1d31-4297-dc53-473cd7871aad",
        "colab": {
          "base_uri": "https://localhost:8080/",
          "height": 33
        }
      },
      "source": [
        "# https://pytorch.org/get-started/previous-versions/\n",
        "# !pip3 install torch==1.5.0 -f https://download.pytorch.org/whl/cu100/stable # CUDA 10.0 build  1.0.1\n",
        "# !pip3 install torch==1.5.0+cu101 torchvision==0.6.0+cu101 -f https://download.pytorch.org/whl/torch_stable.html\n",
        "!pip3 install -U -q PyDrive\n",
        "\n",
        "from google.colab import drive\n",
        "drive.mount(\"/content/drive\")"
      ],
      "execution_count": 3,
      "outputs": [
        {
          "output_type": "stream",
          "text": [
            "Drive already mounted at /content/drive; to attempt to forcibly remount, call drive.mount(\"/content/drive\", force_remount=True).\n"
          ],
          "name": "stdout"
        }
      ]
    },
    {
      "cell_type": "code",
      "metadata": {
        "id": "wQOsa-SK_f9t",
        "colab_type": "code",
        "outputId": "2d5bd2ba-a937-43a5-e716-798e7400960d",
        "colab": {
          "base_uri": "https://localhost:8080/",
          "height": 82
        }
      },
      "source": [
        "!nvcc --version"
      ],
      "execution_count": 4,
      "outputs": [
        {
          "output_type": "stream",
          "text": [
            "nvcc: NVIDIA (R) Cuda compiler driver\n",
            "Copyright (c) 2005-2019 NVIDIA Corporation\n",
            "Built on Sun_Jul_28_19:07:16_PDT_2019\n",
            "Cuda compilation tools, release 10.1, V10.1.243\n"
          ],
          "name": "stdout"
        }
      ]
    },
    {
      "cell_type": "code",
      "metadata": {
        "id": "m6AAKoo8aAGu",
        "colab_type": "code",
        "colab": {}
      },
      "source": [
        "# !ls \"drive/My Drive/Colab Notebooks/ir_data\" -l"
      ],
      "execution_count": 0,
      "outputs": []
    },
    {
      "cell_type": "code",
      "metadata": {
        "id": "Qv2kXKhBZsd9",
        "colab_type": "code",
        "outputId": "7c8d693e-d9c1-492e-f6d6-aab076d3a9ac",
        "colab": {
          "base_uri": "https://localhost:8080/",
          "height": 66
        }
      },
      "source": [
        "## LIBRARIES IMPORT\n",
        "import nltk\n",
        "nltk.download('stopwords')\n",
        "from nltk.corpus import stopwords\n",
        "import os, sys, pickle, shutil#, numbers\n",
        "import numpy as np\n",
        "import pandas as pd\n",
        "\n",
        "import torch\n",
        "print(torch.__version__)\n",
        "import torch.nn as nn\n",
        "import torch.optim as optim\n",
        "import torch.utils.data\n",
        "from torch.autograd import Variable\n",
        "import torch.backends.cudnn as cudnn\n",
        "\n",
        "from tqdm import tqdm"
      ],
      "execution_count": 6,
      "outputs": [
        {
          "output_type": "stream",
          "text": [
            "[nltk_data] Downloading package stopwords to /root/nltk_data...\n",
            "[nltk_data]   Unzipping corpora/stopwords.zip.\n",
            "1.5.0+cu101\n"
          ],
          "name": "stdout"
        }
      ]
    },
    {
      "cell_type": "code",
      "metadata": {
        "id": "38QETfMb-_6G",
        "colab_type": "code",
        "colab": {}
      },
      "source": [
        "## SIMPLE FC NN\n",
        "class MapperI(nn.Module):\n",
        "    def __init__(self, feat_dim, args):\n",
        "        super(MapperI, self).__init__()\n",
        "        self.fc = nn.Sequential(nn.Linear(int(feat_dim), int(args.dim_embed)),\n",
        "                                nn.BatchNorm1d(args.dim_embed),\n",
        "                                nn.ReLU(inplace=True),\n",
        "                                nn.Dropout(p=0.5),\n",
        "                                nn.Linear(int(args.dim_embed), int(args.bit)) )\n",
        "        if args.cuda: self.cuda()\n",
        "        \n",
        "    def forward(self, images):\n",
        "        x = self.fc(images)\n",
        "        x = nn.functional.normalize(x)  # L2 normalize each feature vector\n",
        "        return x\n",
        "\n",
        "class MapperT(nn.Module):\n",
        "    def __init__(self, feat_dim, vecs, args):\n",
        "        super(MapperT, self).__init__()\n",
        "        self.fc = nn.Sequential(nn.Linear(int(feat_dim), int(args.dim_embed)),\n",
        "                                nn.BatchNorm1d(args.dim_embed),\n",
        "                                nn.ReLU(inplace=True),\n",
        "                                nn.Dropout(p=0.5),\n",
        "                                nn.Linear(int(args.dim_embed), int(args.bit)) )\n",
        "        n_tokens, token_dim = vecs.shape\n",
        "        self.vecs = vecs\n",
        "        self.words = nn.Embedding(n_tokens, token_dim)\n",
        "        self.words.weight = nn.Parameter(vecs)\n",
        "        if args.cuda:\n",
        "            self.cuda()\n",
        "            self.vecs = vecs.cuda()\n",
        "\n",
        "    def forward(self, tokens):\n",
        "        words = self.words(tokens)\n",
        "        n_words = torch.sum(tokens > 0, 1).float() + 1e-10\n",
        "        sum_words = words.sum(1).squeeze()\n",
        "        sentences = sum_words / n_words.unsqueeze(1)\n",
        "        x = self.fc(sentences)\n",
        "        x = nn.functional.normalize(x)  # L2 normalize each feature vector\n",
        "        return x"
      ],
      "execution_count": 0,
      "outputs": []
    },
    {
      "cell_type": "code",
      "metadata": {
        "id": "RszTFdtDFk-U",
        "colab_type": "code",
        "colab": {}
      },
      "source": [
        "def calculate_S(label1, label2, args):\n",
        "    # calculate the similar matrix (S) -- neighbour matrix\n",
        "    S = (label1.matmul(label2.transpose(0, 1)) > 0).type(torch.FloatTensor)\n",
        "    return S\n",
        "\n",
        "def derivative(F, G, B, S, args):\n",
        "    sigma = torch.sigmoid(torch.matmul(F, G.transpose(0, 1)) / 2.)\n",
        "    term1 = torch.sum( (torch.matmul(sigma, F) - torch.matmul(S, F)) / 2.)  # similarity\n",
        "    term2 = 2*args.gamma * torch.sum(F - B)  # preserve similarity\n",
        "    term3 = 2*args.eta * torch.sum(F)  # preserve balance\n",
        "    loss = term1 + term2 + term3\n",
        "    return loss\n",
        "\n",
        "def compound_loss(F, G, B, S, args):\n",
        "    theta = torch.matmul(F, G.transpose(0, 1)) / 2.  # D*D resp T*T (D = unique image-caption pairs, T = image-caption pairs in batch)\n",
        "    term1 = torch.sum(S*theta - torch.log(1. + torch.exp(theta)))  # similarity\n",
        "    term2 = torch.sum(torch.pow(B - F, 2) + torch.pow(B - G, 2))  # preserve similarity\n",
        "    term3 = torch.sum(torch.pow(F.sum(dim=0), 2) + torch.pow(G.sum(dim=0), 2))  # preserve balance\n",
        "    loss = term1 + args.gamma * term2 + args.eta * term3\n",
        "    return loss\n",
        "\n",
        "def generate_image_code(mapper_i, x, args):\n",
        "    img = mapper_i(x)\n",
        "    return torch.sign(img)\n",
        "\n",
        "def generate_text_code(mapper_t, y, args):\n",
        "    text = mapper_t(y)\n",
        "    return torch.sign(text)"
      ],
      "execution_count": 0,
      "outputs": []
    },
    {
      "cell_type": "code",
      "metadata": {
        "id": "JfwAMqrEZseR",
        "colab_type": "code",
        "colab": {}
      },
      "source": [
        "## DATASET LOADER\n",
        "def load_word_embeddings(word_embedding_filename, embedding_length):\n",
        "    with open(word_embedding_filename, 'r') as f:\n",
        "        word_embeddings = {}\n",
        "        for i, line in enumerate(f):\n",
        "            line = line.strip()\n",
        "            if not line:\n",
        "                continue\n",
        "\n",
        "            vec = line.split()\n",
        "            if len(vec) != embedding_length + 1:\n",
        "                continue\n",
        "            \n",
        "            label = vec[0].lower()\n",
        "            vec = np.array([float(x) for x in vec[1:]], np.float32)            \n",
        "            assert len(vec) == embedding_length\n",
        "            word_embeddings[label] = vec\n",
        "        \n",
        "        print('Loaded {:d} embedding vectors'.format(i))\n",
        "    return word_embeddings\n",
        "\n",
        "def load_flickr_captions(args, split):\n",
        "    stop_words = set(stopwords.words('english'))\n",
        "    split_fn = os.path.join(args.feat_path, split + '.txt')\n",
        "    images = [im.strip() for im in open(split_fn, 'r')]\n",
        "    im2idx = dict(zip(images, range(len(images))))\n",
        "    images = set(images)\n",
        "    caption_fn = os.path.join(args.feat_path, 'captions.token')\n",
        "    im2captions = {}\n",
        "    with open(caption_fn, 'r') as f:\n",
        "        for line in f:\n",
        "            line = line.strip().lower().split()\n",
        "            im = line[0].split('.')[0]\n",
        "            if im in images:\n",
        "                if im not in im2captions:\n",
        "                    im2captions[im] = []\n",
        "\n",
        "                im2captions[im].append([token for token in line[1:-1] if token not in stop_words])  # last token = '.', thus [1:-1]\n",
        "\n",
        "    assert(len(im2idx) == len(im2captions))\n",
        "    captions = []\n",
        "    cap2im = []\n",
        "    for im, idx in im2idx.items():\n",
        "        im_captions = im2captions[im]\n",
        "        captions += im_captions\n",
        "        cap2im.append(np.ones(len(im_captions), np.int32) * idx)\n",
        "\n",
        "    cap2im = np.hstack(cap2im)\n",
        "    return captions, cap2im, im2idx\n",
        "\n",
        "def load_imfeature_embeddings(args, split):\n",
        "    split_fn = os.path.join(args.feat_path, split + '.txt')\n",
        "    images = [im.strip() for im in open(split_fn, 'r')]\n",
        "    \n",
        "    im_features = {}\n",
        "    im_feat_path = os.path.join(args.feat_path, 'image_features.csv')\n",
        "    with open(im_feat_path, 'r') as f:\n",
        "        for i, line in enumerate(f):\n",
        "            tmp = line.split('\\n')\n",
        "            tmp = tmp[0].split(' ', 1)\n",
        "            if len(tmp) == 2 and tmp[0] in images:\n",
        "                im_features[str(tmp[0].split('.')[0])] = tmp[1]\n",
        "    return im_features\n",
        "            \n",
        "class DatasetLoader:\n",
        "    \"\"\" Dataset loader class that loads feature matrices from given paths and\n",
        "        create shuffled batch for training, unshuffled batch for evaluation.\n",
        "    \"\"\"\n",
        "    def __init__(self, args, split='train'):\n",
        "        self.captions, self.cap2im, self.im2idx = load_flickr_captions(args, split)\n",
        "        \n",
        "        if not args.given_im_features:\n",
        "          # LOAD IMAGE FEATURES USED IN PAPER\n",
        "          feat_path = os.path.join(args.feat_path, split + '_features.npy')\n",
        "        else:\n",
        "          # LOAD GIVEN IMAGE FEATURES\n",
        "          feat_path = os.path.join(args.feat_path, split + '_im_features.npy')\n",
        "          \n",
        "        self.im_feats = np.load(feat_path)\n",
        "        print('Loading features from', feat_path)\n",
        "\n",
        "        if split == 'val':\n",
        "            num_images = 1000\n",
        "            self.im_feats = self.im_feats[:num_images]\n",
        "            subset_ims = self.cap2im < num_images\n",
        "            self.captions = [caption for caption, is_val in zip(self.captions, subset_ims) if is_val]\n",
        "            self.cap2im = [im for im, is_val in zip(self.cap2im, subset_ims) if is_val]\n",
        "\n",
        "        assert len(self.cap2im) == len(self.captions)\n",
        "        if split != 'train':\n",
        "            self.labels = np.zeros((len(self.cap2im), len(self.im_feats)), np.float)\n",
        "            self.labels[(range(len(self.cap2im)), self.cap2im)] = 1\n",
        "        else:\n",
        "            self.im2cap = {}\n",
        "            for cap, im in enumerate(self.cap2im):\n",
        "                if im not in self.im2cap:\n",
        "                    self.im2cap[im] = []\n",
        "\n",
        "                self.im2cap[im].append(cap)\n",
        "\n",
        "        print('Loading complete')\n",
        "        self.split = split\n",
        "        self.sample_size = args.sample_size\n",
        "\n",
        "    def build_vocab(self, cache_filename, word_embeddings_filename=None, embedding_length=300):\n",
        "        if os.path.exists(cache_filename):\n",
        "            vocab_data = pickle.load(open(cache_filename, 'rb'))\n",
        "            self.max_length = vocab_data['max_length']\n",
        "            self.tok2idx = vocab_data['tok2idx']\n",
        "            vecs = vocab_data['vecs']\n",
        "        else:\n",
        "            assert word_embeddings_filename is not None\n",
        "            word_embeddings = load_word_embeddings(word_embeddings_filename, embedding_length)\n",
        "            self.max_length = 0\n",
        "            vocab = set()\n",
        "            for caption in self.captions:\n",
        "                tokens = [token for token in caption if token in word_embeddings]\n",
        "                vocab.update(tokens)\n",
        "                self.max_length = max(self.max_length, len(tokens))\n",
        "\n",
        "            vocab = list(vocab)\n",
        "            # +1 for a padding vector which *must* be the 0th index\n",
        "            self.tok2idx = dict(zip(vocab, range(1, len(vocab) + 1)))\n",
        "            vecs = np.zeros((len(vocab) + 1, embedding_length), np.float32)\n",
        "            for i, token in enumerate(vocab):\n",
        "                vecs[i + 1] = word_embeddings[token]\n",
        "            \n",
        "            vocab_data = {'max_length' : self.max_length,\n",
        "                          'tok2idx' : self.tok2idx,\n",
        "                          'vecs' : vecs}\n",
        "\n",
        "            pickle.dump(vocab_data, open(cache_filename, 'wb'))\n",
        "\n",
        "        self.sent_feats = np.zeros((len(self.captions), self.max_length), np.int64)\n",
        "        for i, caption in enumerate(self.captions):\n",
        "            tokens = [self.tok2idx[token] for token in caption if token in self.tok2idx]\n",
        "            self.sent_feats[i, :len(tokens)] = tokens\n",
        "\n",
        "        return vecs\n",
        "\n",
        "    def __len__(self):\n",
        "        return len(self.captions)\n",
        "\n",
        "    def __getitem__(self, index):\n",
        "        im = self.cap2im[index]\n",
        "        im_feat = self.im_feats[self.cap2im[index]]\n",
        "        sample_index = np.random.choice(\n",
        "            [i for i in self.im2cap[im] if i != index],\n",
        "            self.sample_size - 1, replace=False)\n",
        "        sample_index = sorted(np.append(sample_index, index))\n",
        "        sent_feat = self.sent_feats[sample_index]\n",
        "        return im_feat, sent_feat"
      ],
      "execution_count": 0,
      "outputs": []
    },
    {
      "cell_type": "code",
      "metadata": {
        "id": "heXMF94lZseh",
        "colab_type": "code",
        "colab": {}
      },
      "source": [
        "# GET SENTENCE FEATURES -- INDICES OF TOKENS -- BASED ON CONSTRUCTED VOCABULARY\n",
        "# converts given sentence to word embeddings\n",
        "def get_sentence_features(sentences, args):\n",
        "    if os.path.exists(args.feat_path+'vocab.pkl'):\n",
        "        vocab_data = pickle.load(open(args.feat_path+'vocab.pkl', 'rb'))\n",
        "        max_length = vocab_data['max_length']\n",
        "        tok2idx = vocab_data['tok2idx']\n",
        "        vecs = vocab_data['vecs']\n",
        "    else:\n",
        "        print('could find data/vocab.pkl file!')\n",
        "    \n",
        "    sent_feats = np.zeros((len(sentences), max_length), np.int64)\n",
        "    for i, caption in enumerate(sentences):\n",
        "        tokens = [tok2idx[token.lower().rstrip(',.!?:')] for token in caption.split() if token.lower().rstrip(',.!?:') in tok2idx]\n",
        "        sent_feats[i, :len(tokens)] = tokens\n",
        "    return sent_feats"
      ],
      "execution_count": 0,
      "outputs": []
    },
    {
      "cell_type": "code",
      "metadata": {
        "id": "6Zk31s7O3LSg",
        "colab_type": "code",
        "colab": {}
      },
      "source": [
        "# GENERATE TRAIN, VAL, TEST SET SPLITS OF GIVEN CSV FILE WITH IMAGE FEATURES AND SAVE IT AS NPY FILE\n",
        "def generate_npy(filepath, targetFolder):\n",
        "    splits = ['train', 'test', 'val']\n",
        "    data = pd.read_csv(filepath, sep=' ', header=None)\n",
        "    data[0] = data[0].map(lambda x: x.split('.')[0])  # remove .jpg ending\n",
        "    \n",
        "    for split in splits:\n",
        "        split_idx = [im.strip() for im in open(ARGS.feat_path + split + '.txt', 'r')]\n",
        "        data_split = data.loc[data[0].isin(split_idx)].copy()\n",
        "        sorterIndex = dict(zip(split_idx, range(len(split_idx))))  # sort by given split\n",
        "        # Generate a rank column that will be used to sort the dataframe numerically\n",
        "        data_split['rank'] = data_split[0].map(sorterIndex)\n",
        "        data_split.sort_values(['rank'], ascending = [True], inplace = True)\n",
        "        data_split.drop(['rank', 0], 1, inplace = True)  # drop rank and name of image columns\n",
        "        data_split = data_split.to_numpy(dtype=np.float32)\n",
        "        np.save(targetFolder + split + '_im_features.npy', data_split)\n",
        "        print(split, 'saved with shape', data_split.shape)"
      ],
      "execution_count": 0,
      "outputs": []
    },
    {
      "cell_type": "code",
      "metadata": {
        "id": "Gi7XwK_1Zse1",
        "colab_type": "code",
        "colab": {}
      },
      "source": [
        "def train(train_loader, mapper_i, mapper_t, optimizer_i, optimizer_t, epoch, args):\n",
        "    steps_per_epoch = len(train_loader.dataset) // args.batch_size\n",
        "    display_interval = int(np.floor(steps_per_epoch * args.display_interval))\n",
        "    D = len(train_loader.dataset)   \n",
        "\n",
        "    # Initialize\n",
        "    # F_tmp = torch.rand((args.batch_size, args.bit))\n",
        "    # G_tmp = torch.rand((args.batch_size, args.bit))\n",
        "    # B = torch.sign(F_tmp + G_tmp)\n",
        "    # if args.cuda:\n",
        "    #     F_tmp, G_tmp, B = F_tmp.cuda(), G_tmp.cuda(), B.cuda()\n",
        "\n",
        "    mapper_i.train()\n",
        "    for batch_idx, (im_feats, sent_feats) in enumerate(train_loader):\n",
        "        labels = torch.from_numpy(np.eye(im_feats.size(0), dtype=np.float32))\n",
        "        if args.cuda:\n",
        "            im_feats, sent_feats, labels = im_feats.cuda(), sent_feats.cuda(), labels.cuda()\n",
        "\n",
        "        im_feats, labels = Variable(im_feats), Variable(labels)\n",
        "        sent_feats = sent_feats.view(labels.size(0), -1)\n",
        "\n",
        "        S = calculate_S(labels, labels, args)\n",
        "        F = mapper_i(im_feats)\n",
        "        G = mapper_t(sent_feats)\n",
        "        B = torch.sign(args.gamma * (F+G))\n",
        "        if args.cuda:\n",
        "            F, G, S = F.cuda(), G.cuda(), S.cuda()\n",
        "\n",
        "        F, G = Variable(F), Variable(G)  #  requires_grad=True\n",
        "        derivative_F = derivative(F, G, B, S, args)\n",
        "        # derivative_F /= (args.batch_size * D)\n",
        "\n",
        "        # compute gradient and do optimizer step\n",
        "        optimizer_i.zero_grad()\n",
        "        derivative_F.backward()  #retain_graph=True\n",
        "        optimizer_i.step()\n",
        "\n",
        "    mapper_t.train()\n",
        "    for batch_idx, (im_feats, sent_feats) in enumerate(train_loader):\n",
        "        labels = torch.from_numpy(np.eye(im_feats.size(0), dtype=np.float32))\n",
        "        if args.cuda:\n",
        "            im_feats, sent_feats, labels = im_feats.cuda(), sent_feats.cuda(), labels.cuda()\n",
        "\n",
        "        sent_feats, labels =  Variable(sent_feats), Variable(labels)\n",
        "        sent_feats = sent_feats.view(labels.size(0), -1)\n",
        "\n",
        "        S = calculate_S(labels, labels, args)\n",
        "        F = mapper_i(im_feats)\n",
        "        G = mapper_t(sent_feats)\n",
        "        B = torch.sign(args.gamma * (F+G))\n",
        "        if args.cuda:\n",
        "            F, G, S = F.cuda(), G.cuda(), S.cuda()\n",
        "\n",
        "        F, G = Variable(F), Variable(G)  # requires_grad=True\n",
        "        derivative_G = derivative(G, F, B, S, args)\n",
        "        # derivative_G /= (args.batch_size * D)\n",
        "\n",
        "        # compute gradient and do optimizer step\n",
        "        optimizer_t.zero_grad()\n",
        "        derivative_G.backward()  #retain_graph=True\n",
        "        optimizer_t.step()\n",
        "\n",
        "\n",
        "    B = torch.sign(args.gamma * (F + G))\n",
        "    loss = compound_loss(F, G, B, Variable(S), args)\n",
        "    print('Epoch: {:d} Loss: {:f}, Image Loss: {:f}, Text Loss: {:f} '.format(epoch, loss, \n",
        "                                                                              derivative_F,\n",
        "                                                                              derivative_G))  #i_average_loss.avg()\n",
        "\n",
        "def test(test_loader, mapper_i, mapper_t, args):\n",
        "    mapper_i.eval()\n",
        "    mapper_t.eval()\n",
        "    sent_feats = torch.from_numpy(test_loader.sent_feats)  # sent_feats are indices\n",
        "    im_feats = torch.from_numpy(test_loader.im_feats)\n",
        "    if ARGS.cuda:\n",
        "        sent_feats, im_feats = sent_feats.cuda(), im_feats.cuda()\n",
        "\n",
        "    sent_feats, im_feats = Variable(sent_feats), Variable(im_feats)\n",
        "\n",
        "    i_hash = generate_image_code(mapper_i, im_feats, args)\n",
        "    t_hash = generate_text_code(mapper_t, sent_feats, args)\n",
        "    labels = torch.from_numpy(test_loader.labels)\n",
        "    im2sent = map_k(i_hash, t_hash, labels.t())\n",
        "    sent2im = map_k(t_hash, i_hash, labels)\n",
        "    MAP = (im2sent + sent2im)/2\n",
        "    print('\\n{} set im2sent: {:.2f}%, sent2im: {:.2f}%, total: {:.2f}% \\n'.format(test_loader.split,\n",
        "                                                                               im2sent*100, sent2im*100, MAP*100))\n",
        "    return MAP\n",
        "\n",
        "def map_k(queries, targets, labels, k=10):\n",
        "    mAP = 0.\n",
        "    is_correct_target = torch.repeat_interleave(labels, 5, dim=0)  # [#images*5, #captions] -- img vs. caption\n",
        "    correct_target_num = (is_correct_target[0].sum()).type(torch.LongTensor).item()\n",
        "    assert correct_target_num > 0\n",
        "\n",
        "    hamming_dist = torch.matmul(queries, targets.t())\n",
        "    _, hd_sorted_idx = hamming_dist.sort(axis=1, descending=True)  # -1*-1=1 and 1*1=1 looking max value = max similarity = min hamm_dist\n",
        "    total = min(k, correct_target_num)\n",
        "    count = torch.arange(1, correct_target_num+1)  # calculate the weight for MAP calculation\n",
        "\n",
        "    for i in range(len(queries)):\n",
        "        query_result = is_correct_target[i, hd_sorted_idx[i]]    \n",
        "        tindex = torch.nonzero(query_result)[:total].squeeze() + 1.  # get non zero indices\n",
        "        mAP += torch.mean(count.type(torch.FloatTensor)/tindex.type(torch.FloatTensor))\n",
        "    return mAP/len(queries)\n",
        "\n",
        "def recallAtK(dist_matrix, labels):\n",
        "    assert len(dist_matrix) == len(labels)\n",
        "    thresholds = [1, 5, 10]\n",
        "    successAtK = np.zeros(len(thresholds), np.float32)\n",
        "    _, indices = dist_matrix.topk(max(thresholds), largest=False)\n",
        "    for i, k in enumerate(thresholds):\n",
        "        for sample_indices, sample_labels in zip(indices[:, :k], labels):\n",
        "            successAtK[i] += sample_labels[sample_indices].max()\n",
        "\n",
        "    if len(indices) > 0:\n",
        "        successAtK /= len(indices)\n",
        "\n",
        "    successAtK = np.round(successAtK*100, 1)\n",
        "    return successAtK"
      ],
      "execution_count": 0,
      "outputs": []
    },
    {
      "cell_type": "code",
      "metadata": {
        "id": "VZGHS06xdC5C",
        "colab_type": "code",
        "colab": {}
      },
      "source": [
        "## ARGUMENTS\n",
        "class ARGS:\n",
        "    def __init__(self):\n",
        "        self.name = 'Two_Branch_Network'\n",
        "        self.seed = 11\n",
        "        self.cuda = True\n",
        "        self.feat_path = \"drive/My Drive/Colab Notebooks/ir_data/\"\n",
        "        self.save_dir = 'models/'\n",
        "        self.resume = 'none'#'models/Two_Branch_Network/checkpoint.pth.tar'\n",
        "        self.test = ''\n",
        "        self.display_interval=0.25\n",
        "        self.given_im_features = False  # use given features else use resnet feat\n",
        "        self.embedding_length=300\n",
        "        self.dim_embed=2048\n",
        "        # LEARNING  \n",
        "        self.lr=1e-4\n",
        "        self.text_lr_multi=2.0\n",
        "        self.batch_size=256\n",
        "        self.sample_size=1\n",
        "        self.max_num_epoch=1\n",
        "        self.no_gain_stop=4\n",
        "        self.minimum_gain=0.1\n",
        "        self.num_neg_sample=10\n",
        "        self.margin=0.05\n",
        "        \n",
        "        self.bit=32\n",
        "        self.gamma=1\n",
        "        self.eta=1\n",
        "\n",
        "ARGS = ARGS()\n",
        "\n",
        "if ARGS.cuda:\n",
        "    torch.cuda.manual_seed(ARGS.seed)\n",
        "\n",
        "# choose the features -- one given by TA or the ones used in the paper\n",
        "# as default used the ones from paper -- better performance\n",
        "if not (os.path.exists(ARGS.feat_path + 'train_im_features.npy') and os.path.exists(ARGS.feat_path + 'test_im_features.npy') and os.path.exists(ARGS.feat_path + 'val_im_features.npy')):\n",
        "    generate_npy(ARGS.feat_path+'image_features.csv', ARGS.feat_path)"
      ],
      "execution_count": 0,
      "outputs": []
    },
    {
      "cell_type": "code",
      "metadata": {
        "id": "ezNl4TYfZse_",
        "colab_type": "code",
        "outputId": "1b1513bd-0f46-4d93-e13e-e55e82c926be",
        "colab": {
          "base_uri": "https://localhost:8080/",
          "height": 163
        }
      },
      "source": [
        "train_loader = DatasetLoader(ARGS, 'train')\n",
        "\n",
        "vocab_filename = os.path.join(ARGS.feat_path, 'vocab.pkl')\n",
        "word_embeddings_filename = os.path.join(ARGS.feat_path, 'mt_grovle.txt')\n",
        "\n",
        "print('Loading vocab')\n",
        "vecs = train_loader.build_vocab(vocab_filename, word_embeddings_filename, ARGS.embedding_length)\n",
        "print('Loading complete')\n",
        "\n",
        "kwargs = {'num_workers': 8, 'pin_memory': True} if ARGS.cuda else {}\n",
        "train_loader = torch.utils.data.DataLoader(train_loader, batch_size=ARGS.batch_size, shuffle=True, **kwargs)\n",
        "test_loader = DatasetLoader(ARGS, 'test')\n",
        "val_loader = DatasetLoader(ARGS, 'val')\n",
        "\n",
        "# Assumes the train_loader has already built the vocab and can be loaded from the cached file.\n",
        "test_loader.build_vocab(vocab_filename)\n",
        "val_loader.build_vocab(vocab_filename)\n",
        "\n",
        "image_feature_dim = train_loader.dataset.im_feats.shape[-1]\n",
        "n_tokens, token_dim = vecs.shape\n",
        "vecs = torch.from_numpy(vecs)\n",
        "if ARGS.cuda: vecs = vecs.cuda()\n",
        "\n",
        "mapper_t = MapperT(token_dim, vecs, ARGS)\n",
        "mapper_i = MapperI(image_feature_dim, ARGS)\n",
        "\n",
        "\n",
        "# optionally resume from a checkpoint\n",
        "start_epoch, best_acc = 1, 0.0  # load_checkpoint(mappe, ARGS.resume)\n",
        "cudnn.benchmark = True\n",
        "\n",
        "parameters_i = [{'params' : mapper_i.fc.parameters()}]\n",
        "\n",
        "parameters_t = [{'params' : mapper_t.words.parameters(), 'weight_decay' : 0.},\n",
        "                {'params' : mapper_t.fc.parameters(), \n",
        "                'lr' : ARGS.lr*ARGS.text_lr_multi}]\n",
        "\n",
        "optimizer_i = optim.Adam(parameters_i, lr=ARGS.lr, weight_decay=0.001)\n",
        "scheduler_i = torch.optim.lr_scheduler.ExponentialLR(optimizer_i, gamma = 0.794)\n",
        "optimizer_t = optim.Adam(parameters_t, lr=ARGS.lr, weight_decay=0.001)\n",
        "scheduler_t = torch.optim.lr_scheduler.ExponentialLR(optimizer_t, gamma = 0.794)\n",
        "\n",
        "n_parameters = sum([p.data.nelement() for model in [mapper_i, mapper_t] for p in model.parameters()])\n",
        "print('  + Number of params: {}'.format(n_parameters))\n",
        "\n",
        "save_directory = os.path.join(ARGS.save_dir, ARGS.name)\n",
        "if not os.path.exists(save_directory):\n",
        "    os.makedirs(save_directory)"
      ],
      "execution_count": 26,
      "outputs": [
        {
          "output_type": "stream",
          "text": [
            "Loading features from drive/My Drive/Colab Notebooks/ir_data/train_features.npy\n",
            "Loading complete\n",
            "Loading vocab\n",
            "Loading complete\n",
            "Loading features from drive/My Drive/Colab Notebooks/ir_data/test_features.npy\n",
            "Loading complete\n",
            "Loading features from drive/My Drive/Colab Notebooks/ir_data/val_features.npy\n",
            "Loading complete\n",
            "  + Number of params: 9378628\n"
          ],
          "name": "stdout"
        }
      ]
    },
    {
      "cell_type": "code",
      "metadata": {
        "id": "7pVye1QO0nE-",
        "colab_type": "code",
        "outputId": "2a30ac70-7ae6-4180-d024-e67137abe1bc",
        "colab": {
          "base_uri": "https://localhost:8080/",
          "height": 277
        }
      },
      "source": [
        "epoch = 1\n",
        "best_epoch = epoch\n",
        "for epoch in range(1,5):\n",
        "    train(train_loader, mapper_i, mapper_t, optimizer_i, optimizer_t, epoch, ARGS)  # train for one epoch\n",
        "    acc = test(val_loader, mapper_i, mapper_t, ARGS)  # evaluate on validation set\n",
        "\n",
        "    # update learning rate\n",
        "    scheduler_i.step()\n",
        "    scheduler_t.step()"
      ],
      "execution_count": 27,
      "outputs": [
        {
          "output_type": "stream",
          "text": [
            "Epoch: 1 Loss: 5124.277344, Image Loss: 4649.031250, Text Loss: -1511.302979 \n",
            "\n",
            "val set im2sent: 0.35%, sent2im: 0.64%, total: 0.50% \n",
            "\n",
            "Epoch: 2 Loss: 20760.554688, Image Loss: 7121.621094, Text Loss: -1092.000000 \n",
            "\n",
            "val set im2sent: 0.38%, sent2im: 0.66%, total: 0.52% \n",
            "\n",
            "Epoch: 3 Loss: -10755.574219, Image Loss: -1421.160645, Text Loss: -1532.000000 \n",
            "\n",
            "val set im2sent: 2.03%, sent2im: 0.74%, total: 1.38% \n",
            "\n",
            "Epoch: 4 Loss: -10753.132812, Image Loss: -1472.000000, Text Loss: -1460.000000 \n",
            "\n",
            "val set im2sent: 2.03%, sent2im: 0.47%, total: 1.25% \n",
            "\n"
          ],
          "name": "stdout"
        }
      ]
    },
    {
      "cell_type": "code",
      "metadata": {
        "id": "NzBPeFVC4wNg",
        "colab_type": "code",
        "outputId": "9255d273-80d2-4747-dc9d-bf394e56e239",
        "colab": {
          "base_uri": "https://localhost:8080/",
          "height": 33
        }
      },
      "source": [
        "we = load_word_embeddings(ARGS.feat_path + '/mt_grovle.txt', 300)"
      ],
      "execution_count": 0,
      "outputs": [
        {
          "output_type": "stream",
          "text": [
            "Loaded 23375 embedding vectors\n"
          ],
          "name": "stdout"
        }
      ]
    },
    {
      "cell_type": "code",
      "metadata": {
        "id": "CH9BkhsI49Va",
        "colab_type": "code",
        "colab": {}
      },
      "source": [
        "captions, cap2im, im2idx = load_flickr_captions(ARGS, 'train')"
      ],
      "execution_count": 0,
      "outputs": []
    },
    {
      "cell_type": "code",
      "metadata": {
        "id": "Wo65LQcn75JC",
        "colab_type": "code",
        "outputId": "7426c3e2-aa5f-43bd-d4ea-2612adb04e8d",
        "colab": {
          "base_uri": "https://localhost:8080/",
          "height": 33
        }
      },
      "source": [
        "sys.getsizeof(captions) / (1024*1024)"
      ],
      "execution_count": 0,
      "outputs": [
        {
          "output_type": "execute_result",
          "data": {
            "text/plain": [
              "1.210662841796875"
            ]
          },
          "metadata": {
            "tags": []
          },
          "execution_count": 17
        }
      ]
    },
    {
      "cell_type": "code",
      "metadata": {
        "id": "vxnmmIGaIH7H",
        "colab_type": "code",
        "outputId": "fb3bda0d-b060-4668-c068-f1fc7973ecad",
        "colab": {
          "base_uri": "https://localhost:8080/",
          "height": 33
        }
      },
      "source": [
        "len(im2idx)"
      ],
      "execution_count": 0,
      "outputs": [
        {
          "output_type": "execute_result",
          "data": {
            "text/plain": [
              "29783"
            ]
          },
          "metadata": {
            "tags": []
          },
          "execution_count": 18
        }
      ]
    },
    {
      "cell_type": "code",
      "metadata": {
        "id": "2c0phTostFOD",
        "colab_type": "code",
        "outputId": "0ee85260-eb49-44a4-a764-4ab3227fef10",
        "colab": {
          "base_uri": "https://localhost:8080/",
          "height": 33
        }
      },
      "source": [
        "print(len(train_loader.dataset))"
      ],
      "execution_count": 0,
      "outputs": [
        {
          "output_type": "stream",
          "text": [
            "148915\n"
          ],
          "name": "stdout"
        }
      ]
    },
    {
      "cell_type": "code",
      "metadata": {
        "id": "ZDr3xNZxglPQ",
        "colab_type": "code",
        "outputId": "99504b89-da2f-4123-94e2-e5c6765ee0b8",
        "colab": {
          "base_uri": "https://localhost:8080/",
          "height": 180
        }
      },
      "source": [
        "i_average_loss = RunningAverage()\n",
        "t_average_loss = RunningAverage()\n",
        "steps_per_epoch = len(train_loader.dataset) // ARGS.batch_size\n",
        "display_interval = int(np.floor(steps_per_epoch * ARGS.display_interval))\n",
        "\n",
        "mapper_i.train()\n",
        "mapper_t.train()"
      ],
      "execution_count": 0,
      "outputs": [
        {
          "output_type": "execute_result",
          "data": {
            "text/plain": [
              "MapperT(\n",
              "  (fc): Sequential(\n",
              "    (0): Linear(in_features=300, out_features=2048, bias=True)\n",
              "    (1): BatchNorm1d(2048, eps=1e-05, momentum=0.1, affine=True, track_running_stats=True)\n",
              "    (2): ReLU(inplace=True)\n",
              "    (3): Dropout(p=0.5, inplace=False)\n",
              "    (4): Linear(in_features=2048, out_features=32, bias=True)\n",
              "  )\n",
              "  (words): Embedding(14755, 300)\n",
              ")"
            ]
          },
          "metadata": {
            "tags": []
          },
          "execution_count": 149
        }
      ]
    },
    {
      "cell_type": "code",
      "metadata": {
        "id": "vhEoK82duOpl",
        "colab_type": "code",
        "colab": {}
      },
      "source": [
        "batch_idx, (im_feats, sent_feats) = next(enumerate(train_loader))"
      ],
      "execution_count": 0,
      "outputs": []
    },
    {
      "cell_type": "code",
      "metadata": {
        "id": "GjnvglaUglvu",
        "colab_type": "code",
        "outputId": "1bde1cff-a532-453f-aa61-9b4ba7b1dc20",
        "colab": {
          "base_uri": "https://localhost:8080/",
          "height": 33
        }
      },
      "source": [
        "labels = torch.from_numpy(np.eye(im_feats.size(0), dtype=np.float32))\n",
        "if ARGS.cuda:\n",
        "    im_feats, sent_feats, labels = im_feats.cuda(), sent_feats.cuda(), labels.cuda()\n",
        "\n",
        "im_feats, sent_feats, labels = Variable(im_feats), Variable(sent_feats), Variable(labels)\n",
        "sent_feats = sent_feats.view(labels.size(0), -1)\n",
        "print(im_feats.shape, sent_feats.shape, labels.shape)"
      ],
      "execution_count": 0,
      "outputs": [
        {
          "output_type": "stream",
          "text": [
            "torch.Size([256, 2048]) torch.Size([256, 45]) torch.Size([256, 256])\n"
          ],
          "name": "stdout"
        }
      ]
    },
    {
      "cell_type": "code",
      "metadata": {
        "id": "snVyQo6Jnw5_",
        "colab_type": "code",
        "outputId": "58fc2bc1-3c67-44f7-af57-3656481aa90b",
        "colab": {
          "base_uri": "https://localhost:8080/",
          "height": 131
        }
      },
      "source": [
        "labels"
      ],
      "execution_count": 0,
      "outputs": [
        {
          "output_type": "execute_result",
          "data": {
            "text/plain": [
              "tensor([[1., 0., 0.,  ..., 0., 0., 0.],\n",
              "        [0., 1., 0.,  ..., 0., 0., 0.],\n",
              "        [0., 0., 1.,  ..., 0., 0., 0.],\n",
              "        ...,\n",
              "        [0., 0., 0.,  ..., 1., 0., 0.],\n",
              "        [0., 0., 0.,  ..., 0., 1., 0.],\n",
              "        [0., 0., 0.,  ..., 0., 0., 1.]], device='cuda:0')"
            ]
          },
          "metadata": {
            "tags": []
          },
          "execution_count": 152
        }
      ]
    },
    {
      "cell_type": "code",
      "metadata": {
        "id": "mGxz3m0RxilS",
        "colab_type": "code",
        "outputId": "5c45f80f-947e-4053-e028-376173b1ba0e",
        "colab": {
          "base_uri": "https://localhost:8080/",
          "height": 33
        }
      },
      "source": [
        "F = mapper_i(im_feats)\n",
        "G = mapper_t(sent_feats)\n",
        "B = ARGS.gamma * torch.sign(F+G)\n",
        "theta = torch.matmul(F.transpose(0, 1), G) / 2\n",
        "S = calculate_S(labels, labels, ARGS).cuda()\n",
        "print(F.shape, G.shape, B.shape, theta.shape, S.shape)"
      ],
      "execution_count": 0,
      "outputs": [
        {
          "output_type": "stream",
          "text": [
            "torch.Size([256, 32]) torch.Size([256, 32]) torch.Size([256, 32]) torch.Size([32, 32]) torch.Size([256, 256])\n"
          ],
          "name": "stdout"
        }
      ]
    },
    {
      "cell_type": "code",
      "metadata": {
        "id": "XqlPXJuDx7C5",
        "colab_type": "code",
        "outputId": "6602d2e3-d429-4ac9-ceab-9fa81d2ceb21",
        "colab": {
          "base_uri": "https://localhost:8080/",
          "height": 33
        }
      },
      "source": [
        "theta = torch.matmul(F, G.transpose(0, 1)) / 2\n",
        "sigma = torch.sigmoid(theta)\n",
        "T, D = theta.shape\n",
        "print(theta.shape, sigma.shape, S.shape)"
      ],
      "execution_count": 0,
      "outputs": [
        {
          "output_type": "stream",
          "text": [
            "torch.Size([256, 256]) torch.Size([256, 256]) torch.Size([256, 256])\n"
          ],
          "name": "stdout"
        }
      ]
    },
    {
      "cell_type": "code",
      "metadata": {
        "id": "G985WyBByVfT",
        "colab_type": "code",
        "outputId": "a4f79696-4c47-4747-9d06-d741076283eb",
        "colab": {
          "base_uri": "https://localhost:8080/",
          "height": 33
        }
      },
      "source": [
        "term1 = torch.sum(torch.matmul(sigma, G) - torch.matmul(S, G))  # similarity\n",
        "term2 = 2*ARGS.gamma*torch.sum(F - B)  # preserve similarity\n",
        "term3 = 2*ARGS.eta * torch.sum(F)  # preserve balance\n",
        "loss = term1 + term2 + term3\n",
        "print(term1.shape, term2.shape, term3.shape)"
      ],
      "execution_count": 0,
      "outputs": [
        {
          "output_type": "stream",
          "text": [
            "torch.Size([]) torch.Size([]) torch.Size([])\n"
          ],
          "name": "stdout"
        }
      ]
    },
    {
      "cell_type": "code",
      "metadata": {
        "id": "XJCSVkrp1_1F",
        "colab_type": "code",
        "outputId": "05cf38ec-868f-4d74-a01b-26bf4204c84e",
        "colab": {
          "base_uri": "https://localhost:8080/",
          "height": 33
        }
      },
      "source": [
        "loss"
      ],
      "execution_count": 0,
      "outputs": [
        {
          "output_type": "execute_result",
          "data": {
            "text/plain": [
              "tensor(7021.7539, device='cuda:0', grad_fn=<AddBackward0>)"
            ]
          },
          "metadata": {
            "tags": []
          },
          "execution_count": 26
        }
      ]
    },
    {
      "cell_type": "code",
      "metadata": {
        "id": "T-7Ch133dwzX",
        "colab_type": "code",
        "colab": {}
      },
      "source": [
        ""
      ],
      "execution_count": 0,
      "outputs": []
    },
    {
      "cell_type": "code",
      "metadata": {
        "id": "zEIpg9XmD3DQ",
        "colab_type": "code",
        "colab": {}
      },
      "source": [
        "# TESTING - VALIDATING"
      ],
      "execution_count": 0,
      "outputs": []
    },
    {
      "cell_type": "code",
      "metadata": {
        "id": "qX8cNjTYyo8B",
        "colab_type": "code",
        "colab": {}
      },
      "source": [
        "mapper_i.eval()\n",
        "mapper_t.eval()\n",
        "sent_feats = torch.from_numpy(test_loader.sent_feats)  # sent_feats are indices\n",
        "im_feats = torch.from_numpy(test_loader.im_feats)\n",
        "if ARGS.cuda:\n",
        "    sent_feats, im_feats = sent_feats.cuda(), im_feats.cuda()"
      ],
      "execution_count": 0,
      "outputs": []
    },
    {
      "cell_type": "code",
      "metadata": {
        "id": "Y0bJPtGNxR_I",
        "colab_type": "code",
        "colab": {}
      },
      "source": [
        "sent_feats, im_feats = Variable(sent_feats), Variable(im_feats)\n",
        "F = mapper_i(im_feats)\n",
        "G = mapper_t(sent_feats)\n",
        "F = torch.repeat_interleave(F, 5, dim=0)\n",
        "B = ARGS.gamma * torch.sign(F+G)    \n",
        "# G, F = G.data, F.data\n",
        "labels = torch.from_numpy(test_loader.labels).t()"
      ],
      "execution_count": 0,
      "outputs": []
    },
    {
      "cell_type": "code",
      "metadata": {
        "id": "DzIyB7XHxdU6",
        "colab_type": "code",
        "outputId": "c7b5ae49-4a50-40a0-9679-22b074f87fe3",
        "colab": {
          "base_uri": "https://localhost:8080/",
          "height": 33
        }
      },
      "source": [
        "i_hash = generate_image_code(mapper_i, im_feats, ARGS)\n",
        "t_hash = generate_text_code(mapper_t, sent_feats, ARGS)\n",
        "i_hash = torch.repeat_interleave(i_hash, 5, dim=0)\n",
        "# labels = torch.repeat_interleave(labels.t(), 5, dim=0)\n",
        "print(i_hash.shape, t_hash.shape, labels.shape)"
      ],
      "execution_count": 0,
      "outputs": [
        {
          "output_type": "stream",
          "text": [
            "torch.Size([5000, 32]) torch.Size([5000, 32]) torch.Size([1000, 5000])\n"
          ],
          "name": "stdout"
        }
      ]
    },
    {
      "cell_type": "code",
      "metadata": {
        "id": "dSBgR4ZDKPLC",
        "colab_type": "code",
        "outputId": "5a3e2092-06dc-4b2c-9327-af0934f90447",
        "colab": {
          "base_uri": "https://localhost:8080/",
          "height": 131
        }
      },
      "source": [
        "labels"
      ],
      "execution_count": 0,
      "outputs": [
        {
          "output_type": "execute_result",
          "data": {
            "text/plain": [
              "tensor([[1., 1., 1.,  ..., 0., 0., 0.],\n",
              "        [0., 0., 0.,  ..., 0., 0., 0.],\n",
              "        [0., 0., 0.,  ..., 0., 0., 0.],\n",
              "        ...,\n",
              "        [0., 0., 0.,  ..., 0., 0., 0.],\n",
              "        [0., 0., 0.,  ..., 0., 0., 0.],\n",
              "        [0., 0., 0.,  ..., 1., 1., 1.]], dtype=torch.float64)"
            ]
          },
          "metadata": {
            "tags": []
          },
          "execution_count": 31
        }
      ]
    },
    {
      "cell_type": "code",
      "metadata": {
        "id": "8etx_Dw6GjT2",
        "colab_type": "code",
        "outputId": "053890a9-4e81-4ac6-da65-54cae7a6a2f4",
        "colab": {
          "base_uri": "https://localhost:8080/",
          "height": 33
        }
      },
      "source": [
        "is_correct_target = torch.repeat_interleave(labels, 5, dim=0)\n",
        "correct_target_num = (is_correct_target[0].sum()).type(torch.LongTensor).item()\n",
        "print(is_correct_target.shape)"
      ],
      "execution_count": 0,
      "outputs": [
        {
          "output_type": "stream",
          "text": [
            "torch.Size([5000, 5000])\n"
          ],
          "name": "stdout"
        }
      ]
    },
    {
      "cell_type": "code",
      "metadata": {
        "id": "kOnXG7RDIBJJ",
        "colab_type": "code",
        "colab": {}
      },
      "source": [
        "hamming_dist = torch.matmul(i_hash, t_hash.t())"
      ],
      "execution_count": 0,
      "outputs": []
    },
    {
      "cell_type": "code",
      "metadata": {
        "id": "sTDh8EoEIc1v",
        "colab_type": "code",
        "outputId": "7531d666-6f43-4a90-9cb7-a2899719a6d6",
        "colab": {
          "base_uri": "https://localhost:8080/",
          "height": 50
        }
      },
      "source": [
        "hamming_dist[0]"
      ],
      "execution_count": 0,
      "outputs": [
        {
          "output_type": "execute_result",
          "data": {
            "text/plain": [
              "tensor([ 0., -6., -4.,  ...,  0., -6., -6.], device='cuda:0',\n",
              "       grad_fn=<SelectBackward>)"
            ]
          },
          "metadata": {
            "tags": []
          },
          "execution_count": 86
        }
      ]
    },
    {
      "cell_type": "code",
      "metadata": {
        "id": "uMko53rWIuqU",
        "colab_type": "code",
        "outputId": "663ae454-4ebf-4261-efe9-1ff1de8b6c91",
        "colab": {
          "base_uri": "https://localhost:8080/",
          "height": 147
        }
      },
      "source": [
        "_, idx = hamming_dist.sort(axis=1, descending=True)\n",
        "print(idx.shape, '\\n', idx)"
      ],
      "execution_count": 0,
      "outputs": [
        {
          "output_type": "stream",
          "text": [
            "torch.Size([5000, 5000]) \n",
            " tensor([[4468,   21,   46,  ..., 2518, 4956, 1419],\n",
            "        [4468,   21,   46,  ..., 2518, 4956, 1419],\n",
            "        [4468,   21,   46,  ..., 2518, 4956, 1419],\n",
            "        ...,\n",
            "        [1199, 1252, 1662,  ..., 4615, 4791, 4910],\n",
            "        [1199, 1252, 1662,  ..., 4615, 4791, 4910],\n",
            "        [1199, 1252, 1662,  ..., 4615, 4791, 4910]], device='cuda:0')\n"
          ],
          "name": "stdout"
        }
      ]
    },
    {
      "cell_type": "code",
      "metadata": {
        "id": "gJ80HVt_Nje0",
        "colab_type": "code",
        "outputId": "056c566e-becb-43d0-a5a5-02f474c9f4ff",
        "colab": {
          "base_uri": "https://localhost:8080/",
          "height": 147
        }
      },
      "source": [
        "is_correct_target.cuda()*idx.cuda()"
      ],
      "execution_count": 0,
      "outputs": [
        {
          "output_type": "execute_result",
          "data": {
            "text/plain": [
              "tensor([[4468.,   21.,   46.,  ...,    0.,    0.,    0.],\n",
              "        [4468.,   21.,   46.,  ...,    0.,    0.,    0.],\n",
              "        [4468.,   21.,   46.,  ...,    0.,    0.,    0.],\n",
              "        ...,\n",
              "        [   0.,    0.,    0.,  ..., 4615., 4791., 4910.],\n",
              "        [   0.,    0.,    0.,  ..., 4615., 4791., 4910.],\n",
              "        [   0.,    0.,    0.,  ..., 4615., 4791., 4910.]], device='cuda:0',\n",
              "       dtype=torch.float64)"
            ]
          },
          "metadata": {
            "tags": []
          },
          "execution_count": 88
        }
      ]
    },
    {
      "cell_type": "code",
      "metadata": {
        "id": "YZQz9YIPQzB7",
        "colab_type": "code",
        "outputId": "dcff9954-c8f4-4004-f9d1-52afbc47f8b6",
        "colab": {
          "base_uri": "https://localhost:8080/",
          "height": 33
        }
      },
      "source": [
        "count = torch.arange(1, correct_target_num+1)\n",
        "count"
      ],
      "execution_count": 0,
      "outputs": [
        {
          "output_type": "execute_result",
          "data": {
            "text/plain": [
              "tensor([1, 2, 3, 4, 5])"
            ]
          },
          "metadata": {
            "tags": []
          },
          "execution_count": 92
        }
      ]
    },
    {
      "cell_type": "code",
      "metadata": {
        "id": "1tt2NM0fQ5Fm",
        "colab_type": "code",
        "outputId": "174a8172-3cc9-4d31-9538-d561b2534c3e",
        "colab": {
          "base_uri": "https://localhost:8080/",
          "height": 33
        }
      },
      "source": [
        "# tindex = torch.nonzero(res)[:10].squeeze() + 1.\n",
        "tindex"
      ],
      "execution_count": 0,
      "outputs": [
        {
          "output_type": "execute_result",
          "data": {
            "text/plain": [
              "tensor([1., 2., 3., 4.])"
            ]
          },
          "metadata": {
            "tags": []
          },
          "execution_count": 99
        }
      ]
    },
    {
      "cell_type": "code",
      "metadata": {
        "id": "0HUkdJk_RkL2",
        "colab_type": "code",
        "outputId": "f64ae967-9765-47a9-c653-c8e85dd81c17",
        "colab": {
          "base_uri": "https://localhost:8080/",
          "height": 66
        }
      },
      "source": [
        "query_result = is_correct_target[0, [0,1,2,3,10,10,4]]    \n",
        "tindex = torch.nonzero(query_result)[:5].squeeze() + 1.  # get non zero indices\n",
        "mAP = torch.mean(count.type(torch.FloatTensor)/tindex.type(torch.FloatTensor))\n",
        "print(query_result, '\\n', tindex, '\\n', mAP)"
      ],
      "execution_count": 0,
      "outputs": [
        {
          "output_type": "stream",
          "text": [
            "tensor([1., 1., 1., 1., 0., 0., 1.], dtype=torch.float64) \n",
            " tensor([1., 2., 3., 4., 7.]) \n",
            " tensor(0.9429)\n"
          ],
          "name": "stdout"
        }
      ]
    },
    {
      "cell_type": "code",
      "metadata": {
        "id": "FGB0YGWrEFUf",
        "colab_type": "code",
        "colab": {}
      },
      "source": [
        ""
      ],
      "execution_count": 0,
      "outputs": []
    },
    {
      "cell_type": "code",
      "metadata": {
        "id": "JVbcJClMu7Gp",
        "colab_type": "code",
        "outputId": "3bcce69e-76d0-4689-bcb7-72081144fd44",
        "colab": {
          "base_uri": "https://localhost:8080/",
          "height": 33
        }
      },
      "source": [
        "queries, queries_label = i_hash, labels\n",
        "query_item, query_label = next(zip(queries, queries_label.t()))\n",
        "print(query_item.shape, query_label.shape)"
      ],
      "execution_count": 0,
      "outputs": [
        {
          "output_type": "stream",
          "text": [
            "torch.Size([32]) torch.Size([5000])\n"
          ],
          "name": "stdout"
        }
      ]
    },
    {
      "cell_type": "code",
      "metadata": {
        "id": "JyPcfQI2AxC1",
        "colab_type": "code",
        "outputId": "140c2545-dc01-4f25-9a86-44fa5f1f87b6",
        "colab": {
          "base_uri": "https://localhost:8080/",
          "height": 33
        }
      },
      "source": [
        "print(labels.shape)"
      ],
      "execution_count": 0,
      "outputs": [
        {
          "output_type": "stream",
          "text": [
            "torch.Size([5000, 1000])\n"
          ],
          "name": "stdout"
        }
      ]
    },
    {
      "cell_type": "code",
      "metadata": {
        "id": "71D1shgqvx_c",
        "colab_type": "code",
        "outputId": "1f59bd1f-e8a7-4fed-ded8-09f07f51161e",
        "colab": {
          "base_uri": "https://localhost:8080/",
          "height": 147
        }
      },
      "source": [
        "is_correct_target = (torch.matmul(labels.t(), labels) > 0).type(torch.FloatTensor)\n",
        "print(is_correct_target)\n",
        "correct_target_num = is_correct_target.sum().type(torch.LongTensor).item()\n",
        "print(correct_target_num)"
      ],
      "execution_count": 0,
      "outputs": [
        {
          "output_type": "stream",
          "text": [
            "tensor([[1., 0., 0.,  ..., 0., 0., 0.],\n",
            "        [0., 1., 0.,  ..., 0., 0., 0.],\n",
            "        [0., 0., 1.,  ..., 0., 0., 0.],\n",
            "        ...,\n",
            "        [0., 0., 0.,  ..., 1., 0., 0.],\n",
            "        [0., 0., 0.,  ..., 0., 1., 0.],\n",
            "        [0., 0., 0.,  ..., 0., 0., 1.]])\n",
            "1000\n"
          ],
          "name": "stdout"
        }
      ]
    },
    {
      "cell_type": "code",
      "metadata": {
        "id": "fRwmzvz3wzrF",
        "colab_type": "code",
        "outputId": "5e8f31e9-b34c-4c1c-cf2b-d668489cc5e4",
        "colab": {
          "base_uri": "https://localhost:8080/",
          "height": 33
        }
      },
      "source": [
        "i_hash.shape"
      ],
      "execution_count": 0,
      "outputs": [
        {
          "output_type": "execute_result",
          "data": {
            "text/plain": [
              "torch.Size([1000, 32])"
            ]
          },
          "metadata": {
            "tags": []
          },
          "execution_count": 26
        }
      ]
    },
    {
      "cell_type": "code",
      "metadata": {
        "id": "rowOi3Pl_wN3",
        "colab_type": "code",
        "outputId": "96a24c85-486a-4fd9-dadb-1c6450b9c063",
        "colab": {
          "base_uri": "https://localhost:8080/",
          "height": 33
        }
      },
      "source": [
        "torch.repeat_interleave(i_hash, 5, dim=0).shape"
      ],
      "execution_count": 0,
      "outputs": [
        {
          "output_type": "execute_result",
          "data": {
            "text/plain": [
              "torch.Size([5000, 32])"
            ]
          },
          "metadata": {
            "tags": []
          },
          "execution_count": 27
        }
      ]
    },
    {
      "cell_type": "code",
      "metadata": {
        "id": "xhgwqQHpwhxV",
        "colab_type": "code",
        "outputId": "8246e94f-7950-48b5-b04b-91d05285e266",
        "colab": {
          "base_uri": "https://localhost:8080/",
          "height": 147
        }
      },
      "source": [
        "print(labels.t().shape, \"\\n\", labels.t())"
      ],
      "execution_count": 0,
      "outputs": [
        {
          "output_type": "stream",
          "text": [
            "torch.Size([1000, 5000]) \n",
            " tensor([[1., 1., 1.,  ..., 0., 0., 0.],\n",
            "        [0., 0., 0.,  ..., 0., 0., 0.],\n",
            "        [0., 0., 0.,  ..., 0., 0., 0.],\n",
            "        ...,\n",
            "        [0., 0., 0.,  ..., 0., 0., 0.],\n",
            "        [0., 0., 0.,  ..., 0., 0., 0.],\n",
            "        [0., 0., 0.,  ..., 1., 1., 1.]], dtype=torch.float64)\n"
          ],
          "name": "stdout"
        }
      ]
    },
    {
      "cell_type": "code",
      "metadata": {
        "id": "GrGV9dyvvR5y",
        "colab_type": "code",
        "colab": {}
      },
      "source": [
        "mAP = 0.\n",
        "is_correct_target = torch.repeat_interleave(labels.t(), 5, dim=0)  # [#images*5, #captions]\n",
        "\n",
        "correct_target_num = is_correct_target.sum().type(torch.LongTensor).item()\n",
        "if correct_target_num == 0:\n",
        "    continue\n",
        "\n",
        "hamming_dist = torch.matmul(query_item, target_item.t())\n",
        "_, hd_sorted_idx = hamming_dist.sort(descending=True)  # -1*-1=1 and 1*1=1 looking max value = max similarity = min hammdist\n",
        "query_result = is_correct_target[hd_sorted_idx]\n",
        "total = min(k, correct_target_num)\n",
        "\n",
        "count = torch.arange(1, correct_target_num+1)\n",
        "tindex = torch.nonzero(query_result)[:total].squeeze() + 1.\n",
        "mAP += torch.mean(count.type(torch.FloatTensor)/tindex.type(torch.FloatTensor))\n",
        "mAP/len(queries)"
      ],
      "execution_count": 0,
      "outputs": []
    },
    {
      "cell_type": "code",
      "metadata": {
        "id": "bkWbLB_2xWBI",
        "colab_type": "code",
        "outputId": "8a075e90-6ac1-4830-eaf4-e720e78322b3",
        "colab": {
          "base_uri": "https://localhost:8080/",
          "height": 66
        }
      },
      "source": [
        "mAP = 0.\n",
        "query_item, query_label = i_hash, labels.t()\n",
        "target_item, target_label = t_hash, labels\n",
        "print(query_item.shape, \"\\n\", target_item.shape)\n",
        "print(query_label.shape)"
      ],
      "execution_count": 0,
      "outputs": [
        {
          "output_type": "stream",
          "text": [
            "torch.Size([1000, 32]) \n",
            " torch.Size([5000, 32])\n",
            "torch.Size([1000, 5000])\n"
          ],
          "name": "stdout"
        }
      ]
    },
    {
      "cell_type": "code",
      "metadata": {
        "id": "IlC-bjEiL6Xh",
        "colab_type": "code",
        "outputId": "2a3bc84e-7c4c-4184-ca78-94bafca23ece",
        "colab": {
          "base_uri": "https://localhost:8080/",
          "height": 33
        }
      },
      "source": [
        "correct_target_num = query_label.sum().type(torch.LongTensor).item()\n",
        "print(correct_target_num)"
      ],
      "execution_count": 0,
      "outputs": [
        {
          "output_type": "stream",
          "text": [
            "5000\n"
          ],
          "name": "stdout"
        }
      ]
    },
    {
      "cell_type": "code",
      "metadata": {
        "id": "faShxIKpE1gi",
        "colab_type": "code",
        "outputId": "830105d1-7e35-45ba-ee5d-bf77052eda2f",
        "colab": {
          "base_uri": "https://localhost:8080/",
          "height": 115
        }
      },
      "source": [
        "print(i_hash[0,:], \"\\n\", t_hash[0,:])"
      ],
      "execution_count": 0,
      "outputs": [
        {
          "output_type": "stream",
          "text": [
            "tensor([-1.,  1., -1., -1., -1., -1., -1., -1.,  1., -1.,  1., -1.,  1., -1.,\n",
            "        -1., -1.,  1.,  1., -1., -1., -1., -1., -1., -1., -1.,  1., -1., -1.,\n",
            "        -1.,  1.,  1., -1.], device='cuda:0', grad_fn=<SliceBackward>) \n",
            " tensor([ 1., -1., -1.,  1., -1., -1., -1., -1., -1., -1.,  1.,  1.,  1.,  1.,\n",
            "         1.,  1.,  1.,  1., -1., -1., -1., -1., -1.,  1., -1.,  1.,  1., -1.,\n",
            "         1., -1., -1., -1.], device='cuda:0', grad_fn=<SliceBackward>)\n"
          ],
          "name": "stdout"
        }
      ]
    },
    {
      "cell_type": "code",
      "metadata": {
        "id": "MeEDBsoUM8m1",
        "colab_type": "code",
        "outputId": "d02f2b2f-cb75-49cf-ead1-e650d3e857ce",
        "colab": {
          "base_uri": "https://localhost:8080/",
          "height": 147
        }
      },
      "source": [
        "hamming_dist = torch.matmul(i_hash, t_hash.t())\n",
        "print(hamming_dist)"
      ],
      "execution_count": 0,
      "outputs": [
        {
          "output_type": "stream",
          "text": [
            "tensor([[  6.,  10.,   8.,  ...,  -2.,   8.,  -8.],\n",
            "        [  6.,  10.,   8.,  ...,  -2.,   8.,  -8.],\n",
            "        [  6.,  10.,   8.,  ...,  -2.,   8.,  -8.],\n",
            "        ...,\n",
            "        [  2.,  10.,   4.,  ..., -10.,   0.,  -8.],\n",
            "        [  2.,  10.,   4.,  ..., -10.,   0.,  -8.],\n",
            "        [  2.,  10.,   4.,  ..., -10.,   0.,  -8.]], device='cuda:0',\n",
            "       grad_fn=<MmBackward>)\n"
          ],
          "name": "stdout"
        }
      ]
    },
    {
      "cell_type": "code",
      "metadata": {
        "id": "JFq8L_IkL6-p",
        "colab_type": "code",
        "outputId": "44d63421-5342-48ab-bb5d-851980ec3838",
        "colab": {
          "base_uri": "https://localhost:8080/",
          "height": 131
        }
      },
      "source": [
        "_, hd_sorted_idx = hamming_dist.sort(descending=True)\n",
        "print(hd_sorted_idx)"
      ],
      "execution_count": 0,
      "outputs": [
        {
          "output_type": "stream",
          "text": [
            "tensor([[2877,  169,  273,  ..., 4434, 3044, 3888],\n",
            "        [2877,  169,  273,  ..., 4434, 3044, 3888],\n",
            "        [2877,  169,  273,  ..., 4434, 3044, 3888],\n",
            "        ...,\n",
            "        [1158, 1173, 4281,  ..., 4119, 4279, 1714],\n",
            "        [1158, 1173, 4281,  ..., 4119, 4279, 1714],\n",
            "        [1158, 1173, 4281,  ..., 4119, 4279, 1714]], device='cuda:0')\n"
          ],
          "name": "stdout"
        }
      ]
    },
    {
      "cell_type": "code",
      "metadata": {
        "id": "C2wVMRU7L7H4",
        "colab_type": "code",
        "colab": {}
      },
      "source": [
        "query_result = is_correct_target[hd_sorted_idx]\n",
        "total = min(k, correct_target_num)"
      ],
      "execution_count": 0,
      "outputs": []
    },
    {
      "cell_type": "code",
      "metadata": {
        "id": "CqopyHIHN5Wg",
        "colab_type": "code",
        "colab": {}
      },
      "source": [
        ""
      ],
      "execution_count": 0,
      "outputs": []
    },
    {
      "cell_type": "code",
      "metadata": {
        "id": "gxQeH2QcNvJH",
        "colab_type": "code",
        "colab": {}
      },
      "source": [
        "total = min(k, correct_target_num)\n",
        "\n",
        "count = torch.arange(1, correct_target_num+1)\n",
        "tindex = torch.nonzero(query_result)[:total].squeeze() + 1.\n",
        "mAP += torch.mean(count.type(torch.FloatTensor)/tindex.type(torch.FloatTensor))\n",
        "mAP/len(queries)"
      ],
      "execution_count": 0,
      "outputs": []
    },
    {
      "cell_type": "code",
      "metadata": {
        "id": "XD3wliNLDUR1",
        "colab_type": "code",
        "colab": {}
      },
      "source": [
        "theta = torch.sigmoid(theta)\n",
        "term1 = torch.sum(torch.matmul(theta.transpose(0,1), G) - torch.matmul(S.transpose(0,1).type(torch.FloatTensor), G))\n",
        "term2 = torch.sum(2*ARGS.gamma * (F-B))\n",
        "term3 = torch.sum(2*ARGS.eta * F.sum(dim=1))\n",
        "loss = term1 + term2 + term3"
      ],
      "execution_count": 0,
      "outputs": []
    },
    {
      "cell_type": "code",
      "metadata": {
        "id": "ZLlbATabjRC9",
        "colab_type": "code",
        "colab": {}
      },
      "source": [
        "loss"
      ],
      "execution_count": 0,
      "outputs": []
    },
    {
      "cell_type": "code",
      "metadata": {
        "id": "nT3jY5gSx33p",
        "colab_type": "code",
        "colab": {}
      },
      "source": [
        "F = mapper_i(im_feats)\n",
        "G = mapper_t(sent_feats)\n",
        "B = ARGS.gamma * torch.sign(F+G)\n",
        "S = calculate_S(labels, labels, ARGS)\n",
        "if ARGS.cuda:\n",
        "    F, G, B = F.cuda(), G.cuda(), B.cuda()"
      ],
      "execution_count": 0,
      "outputs": []
    },
    {
      "cell_type": "code",
      "metadata": {
        "id": "BgDuiH7smzEZ",
        "colab_type": "code",
        "colab": {}
      },
      "source": [
        "im_loss = it_loss(F, G, B, S, ARGS)\n",
        "t_loss = it_loss(G, F, B, S, ARGS)"
      ],
      "execution_count": 0,
      "outputs": []
    },
    {
      "cell_type": "code",
      "metadata": {
        "id": "9Cg796NpoAXZ",
        "colab_type": "code",
        "colab": {}
      },
      "source": [
        "theta = torch.matmul(F,G.transpose(0,1))\n",
        "term1 = torch.matmul(theta.transpose(0,1), G)\n",
        "term1 -= torch.matmul(S.transpose(0,1).cuda(), G)\n",
        "term1 = torch.sum(term1)\n",
        "term2 = torch.sum(2*ARGS.gamma * (F-B))\n",
        "term3 = torch.sum(2*ARGS.eta * F.sum(dim=1))\n",
        "loss = torch.abs(term1 + term2 + term3)"
      ],
      "execution_count": 0,
      "outputs": []
    },
    {
      "cell_type": "code",
      "metadata": {
        "id": "eObfgNYRnZwu",
        "colab_type": "code",
        "colab": {}
      },
      "source": [
        "loss"
      ],
      "execution_count": 0,
      "outputs": []
    },
    {
      "cell_type": "code",
      "metadata": {
        "id": "H7KJ9RR5ZSIo",
        "colab_type": "code",
        "colab": {}
      },
      "source": [
        ""
      ],
      "execution_count": 0,
      "outputs": []
    },
    {
      "cell_type": "code",
      "metadata": {
        "id": "fQHloWpe2KqU",
        "colab_type": "code",
        "colab": {}
      },
      "source": [
        ""
      ],
      "execution_count": 0,
      "outputs": []
    }
  ]
}